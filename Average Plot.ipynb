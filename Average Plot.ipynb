{
 "cells": [
  {
   "cell_type": "code",
   "execution_count": 1,
   "metadata": {},
   "outputs": [],
   "source": [
    "# Adapted from: https://towardsdatascience.com/the-art-of-data-visualization-weather-data-visualization-using-matplotlib-and-ggplot2-4d4b48b5b7c4\n",
    "import matplotlib.pyplot as plt\n",
    "import pandas as pd\n",
    "import numpy as np\n",
    "import os"
   ]
  },
  {
   "cell_type": "code",
   "execution_count": 2,
   "metadata": {},
   "outputs": [],
   "source": [
    "rewards = pd.DataFrame([np.load(open('rewards/'+file, 'rb'), allow_pickle=True) for file in os.listdir('rewards')])\n",
    "scores = pd.DataFrame([np.load(open('scores/'+file, 'rb'), allow_pickle=True) for file in os.listdir('scores')])"
   ]
  },
  {
   "cell_type": "code",
   "execution_count": 3,
   "metadata": {},
   "outputs": [],
   "source": [
    "# Reward series arrays\n",
    "r_mean = np.array(rewards.mean().array)\n",
    "r_q1 = np.array(rewards.quantile(.25).array)\n",
    "r_q3 = np.array(rewards.quantile(.75).array)\n",
    "\n",
    "# Reward series arrays\n",
    "s_mean = np.array(scores.mean().array)\n",
    "s_q1 = np.array(scores.quantile(.25).array)\n",
    "s_q3 = np.array(scores.quantile(.75).array)"
   ]
  },
  {
   "cell_type": "code",
   "execution_count": 5,
   "metadata": {},
   "outputs": [],
   "source": [
    "# Plot and Save Rewards\n",
    "plt.figure(figsize=(10,7))\n",
    "plt.plot(np.arange(len(r_mean)),r_mean, label=\"reward mean\", color='r')\n",
    "plt.gca().fill_between(np.arange(len(r_mean)), \n",
    "                       r_q1, r_q3, \n",
    "                       facecolor='red', \n",
    "                       alpha=0.30)\n",
    "plt.xlabel('epochs',size=18)\n",
    "plt.ylabel('reward',size=18)\n",
    "plt.legend(loc=0)\n",
    "os.makedirs('plots', exist_ok=True)\n",
    "plt.savefig('plots/rewards_plot.png')\n",
    "plt.savefig('plots/rewards_plot.pdf')\n",
    "plt.savefig('plots/rewards_plot.jpg')\n",
    "plt.close()"
   ]
  },
  {
   "cell_type": "code",
   "execution_count": 7,
   "metadata": {},
   "outputs": [],
   "source": [
    "# Plot and Save Scores\n",
    "plt.figure(figsize=(10,7))\n",
    "plt.plot(np.arange(len(s_mean)),s_mean, label=\"score mean\", color='r')\n",
    "plt.gca().fill_between(np.arange(len(s_mean)), \n",
    "                       s_q1, s_q3, \n",
    "                       facecolor='red', \n",
    "                       alpha=0.30)\n",
    "plt.xlabel('epochs',size=18)\n",
    "plt.ylabel('score',size=18)\n",
    "plt.legend(loc=0)\n",
    "os.makedirs('plots', exist_ok=True)\n",
    "plt.savefig('plots/scores_plot.png')\n",
    "plt.savefig('plots/scores_plot.pdf')\n",
    "plt.savefig('plots/scores_plot.jpg')\n",
    "plt.close()"
   ]
  }
 ],
 "metadata": {
  "kernelspec": {
   "display_name": "Python 3.8.3 64-bit ('citylearn': conda)",
   "language": "python",
   "name": "python38364bitcitylearnconda60d27b01a655427a9a94e6358ab1c868"
  },
  "language_info": {
   "codemirror_mode": {
    "name": "ipython",
    "version": 3
   },
   "file_extension": ".py",
   "mimetype": "text/x-python",
   "name": "python",
   "nbconvert_exporter": "python",
   "pygments_lexer": "ipython3",
   "version": "3.8.3"
  }
 },
 "nbformat": 4,
 "nbformat_minor": 4
}
